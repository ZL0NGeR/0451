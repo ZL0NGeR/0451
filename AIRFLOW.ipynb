{
 "cells": [
  {
   "cell_type": "code",
   "execution_count": 1,
   "metadata": {},
   "outputs": [],
   "source": [
    "import pandas as pd\n",
    "from airflow import DAG\n",
    "from airflow.operators.python_operator import PythonOperator\n",
    "from datetime import datetime\n",
    "import sys\n",
    "\n",
    "%config IPCompleter.greedy = True"
   ]
  },
  {
   "cell_type": "code",
   "execution_count": 4,
   "metadata": {},
   "outputs": [],
   "source": [
    "def x():\n",
    "    return print('Hello')"
   ]
  },
  {
   "cell_type": "code",
   "execution_count": 5,
   "metadata": {},
   "outputs": [
    {
     "ename": "NameError",
     "evalue": "name 'BashOperator' is not defined",
     "output_type": "error",
     "traceback": [
      "\u001b[0;31m---------------------------------------------------------------------------\u001b[0m",
      "\u001b[0;31mNameError\u001b[0m                                 Traceback (most recent call last)",
      "\u001b[0;32m<ipython-input-5-351531ab53ea>\u001b[0m in \u001b[0;36m<module>\u001b[0;34m\u001b[0m\n\u001b[1;32m     13\u001b[0m     \u001b[0;32mreturn\u001b[0m \u001b[0msys\u001b[0m\u001b[0;34m.\u001b[0m\u001b[0mpath\u001b[0m\u001b[0;34m\u001b[0m\u001b[0;34m\u001b[0m\u001b[0m\n\u001b[1;32m     14\u001b[0m \u001b[0;34m\u001b[0m\u001b[0m\n\u001b[0;32m---> 15\u001b[0;31m bash_operator1 = BashOperator(\n\u001b[0m\u001b[1;32m     16\u001b[0m                     \u001b[0mtask_id\u001b[0m\u001b[0;34m=\u001b[0m\u001b[0;34m'bash_operator1'\u001b[0m\u001b[0;34m,\u001b[0m\u001b[0;34m\u001b[0m\u001b[0;34m\u001b[0m\u001b[0m\n\u001b[1;32m     17\u001b[0m                     \u001b[0mbash_command\u001b[0m\u001b[0;34m=\u001b[0m\u001b[0;34m'python /home/airflow/airflow/dags/osilyutina/example_script.py'\u001b[0m\u001b[0;34m,\u001b[0m\u001b[0;34m\u001b[0m\u001b[0;34m\u001b[0m\u001b[0m\n",
      "\u001b[0;31mNameError\u001b[0m: name 'BashOperator' is not defined"
     ]
    }
   ],
   "source": [
    "default_args = {\n",
    "    'owner': 'osilyutina',\n",
    "    'depends_on_past': False,\n",
    "    'start_date': datetime(2019, 2, 20),\n",
    "    'retries': 0\n",
    "}\n",
    "\n",
    "dag = DAG('hello_world_graph_example', \n",
    "    default_args=default_args,\n",
    "    schedule_interval='00 12 * * 1')\n",
    "\n",
    "def hello():\n",
    "    return sys.path\n",
    "\n",
    "bash_operator1 = BashOperator(\n",
    "                    task_id='bash_operator1',\n",
    "                    bash_command='python /home/airflow/airflow/dags/osilyutina/example_script.py',\n",
    "                    dag=dag)\n",
    "\n",
    "python_operator2 = PythonOperator(task_id='python_operator2', \n",
    "                    python_callable=hello,\n",
    "                    dag=dag)\n",
    "\n",
    "python_operator3 = PythonOperator(task_id='python_operator3', \n",
    "                    python_callable=hello,\n",
    "                    dag=dag)\n",
    "bash_operator1 >> python_operator2 >> python_operator3"
   ]
  },
  {
   "cell_type": "code",
   "execution_count": null,
   "metadata": {},
   "outputs": [],
   "source": []
  }
 ],
 "metadata": {
  "kernelspec": {
   "display_name": "Python 3",
   "language": "python",
   "name": "python3"
  },
  "language_info": {
   "codemirror_mode": {
    "name": "ipython",
    "version": 3
   },
   "file_extension": ".py",
   "mimetype": "text/x-python",
   "name": "python",
   "nbconvert_exporter": "python",
   "pygments_lexer": "ipython3",
   "version": "3.7.6"
  }
 },
 "nbformat": 4,
 "nbformat_minor": 4
}
